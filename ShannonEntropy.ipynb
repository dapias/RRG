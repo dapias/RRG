{
 "cells": [
  {
   "cell_type": "markdown",
   "metadata": {},
   "source": [
    "# Spectral properties of the trap model on sparse networks "
   ]
  },
  {
   "cell_type": "markdown",
   "metadata": {},
   "source": [
    "## Ground state "
   ]
  },
  {
   "cell_type": "markdown",
   "metadata": {},
   "source": [
    "The long-time dynamics for the problem set up in the section 2 of the paper (Bouchaud transition rates over a random regular graph of $N$ nodes with exponentially distributed energies) is controlled by the following eigenvector (equation (6) of the manuscript)\n",
    "$$\n",
    "\\lim_{t \\rightarrow \\infty} \\mathbf{p}(t) = u_0 = \\frac{1}{Z} (\\rm{e}^{\\beta E_1}, \\ldots, \\rm{e}^{\\beta E_N}) \\, ,\n",
    "$$\n",
    "that is the ground state of the master operator governing the dynamics (eigenvalue $\\lambda_0 = 0$ for a non-positive spectrum).\n",
    "\n",
    "Notice that this eigenvector is independent of the connectivity associated with the network as long as the network is connected."
   ]
  },
  {
   "cell_type": "markdown",
   "metadata": {},
   "source": [
    "The section 3.1 of the paper is devoted to the analysis of the ground state associated with the symmetric master operator,this is\n",
    "$$\n",
    "v_0 =  \\dfrac{1}{\\hat{Z} } (\\rm{e}^{\\beta E_1/2}, \\ldots, \\rm{e}^{\\beta E_N/2})\n",
    "$$\n",
    "with $\\hat{Z}$ the normalizing constant."
   ]
  },
  {
   "cell_type": "markdown",
   "metadata": {},
   "source": [
    "### Localisation measures"
   ]
  },
  {
   "cell_type": "markdown",
   "metadata": {},
   "source": [
    "The analysis considers the localisation properties of the eigenvector and it is mad in terms of the inverse participation ration ($I_2$) defined as\n",
    "$$\n",
    "I_2(v) = \\dfrac{\\sum_{i=1}^N v_i^{4}}{(\\sum_{i =1}^N v_i^{2})^2} \\, .\n",
    "$$"
   ]
  },
  {
   "cell_type": "markdown",
   "metadata": {},
   "source": [
    "In these notes we reproduce the numerics given in Figure 2 of the article and extend the analysis by using the Shannon information entropy. \n",
    "\n",
    "For a discrete probability distribution $p = (p_1, \\ldots, p_n)$, the Shannon entropy is calculated as\n",
    "$$\n",
    "S(p) = \\sum_{i=1}^N \\,  p_i \\log(p_i) \\, ,\n",
    "$$\n",
    "and it is also a measure of localisation, in the sense that for a strongly localised distribution the entropy tends to zero whereas for the most delocalised case the entropy yields a maximum."
   ]
  },
  {
   "cell_type": "markdown",
   "metadata": {},
   "source": [
    "So let's use the following parameters:"
   ]
  },
  {
   "cell_type": "code",
   "execution_count": 2,
   "metadata": {},
   "outputs": [],
   "source": [
    "n_vertices = 1000 ##Number of sites\n",
    "ensemble = 100 ##Number of realisations;"
   ]
  },
  {
   "cell_type": "markdown",
   "metadata": {},
   "source": [
    "Range of temperatures:"
   ]
  },
  {
   "cell_type": "code",
   "execution_count": 3,
   "metadata": {},
   "outputs": [],
   "source": [
    "T = 0.1:0.25:6.;"
   ]
  },
  {
   "cell_type": "markdown",
   "metadata": {},
   "source": [
    "Arrays to save the data"
   ]
  },
  {
   "cell_type": "code",
   "execution_count": 4,
   "metadata": {},
   "outputs": [],
   "source": [
    "I2 = zeros(ensemble); ##IPR\n",
    "t2 = zeros(length(T)); ##Exponent\n",
    "ent = zeros(ensemble) ##Entropy of the eigenvector\n",
    "entropy = zeros(length(T)); ##Average entropy"
   ]
  },
  {
   "cell_type": "markdown",
   "metadata": {},
   "source": [
    "Basic functions:"
   ]
  },
  {
   "cell_type": "code",
   "execution_count": 5,
   "metadata": {},
   "outputs": [
    {
     "data": {
      "text/plain": [
       "ipr (generic function with 1 method)"
      ]
     },
     "execution_count": 5,
     "metadata": {},
     "output_type": "execute_result"
    }
   ],
   "source": [
    "ipr(eigenvector) = sum(eigenvector.^4)/(sum(eigenvector.^2))^2."
   ]
  },
  {
   "cell_type": "code",
   "execution_count": 6,
   "metadata": {},
   "outputs": [
    {
     "data": {
      "text/plain": [
       "shannon (generic function with 1 method)"
      ]
     },
     "execution_count": 6,
     "metadata": {},
     "output_type": "execute_result"
    }
   ],
   "source": [
    "function shannon(v) \n",
    "    eig = v.^2.\n",
    "    eig /= sum(eig)\n",
    "    return -sum(eig.*log.(eig))\n",
    "end"
   ]
  },
  {
   "cell_type": "markdown",
   "metadata": {},
   "source": [
    "Exponential distribution for the energies:"
   ]
  },
  {
   "cell_type": "code",
   "execution_count": 8,
   "metadata": {},
   "outputs": [],
   "source": [
    "using Distributions\n",
    "dene = Exponential(1.); ##Recall that T_g = 1"
   ]
  },
  {
   "cell_type": "markdown",
   "metadata": {},
   "source": [
    "Main Loop:"
   ]
  },
  {
   "cell_type": "code",
   "execution_count": 9,
   "metadata": {},
   "outputs": [],
   "source": [
    "j = 1\n",
    "for temp in T\n",
    "    beta = 1/temp\n",
    "    for k in 1:ensemble\n",
    "        energias = rand(dene,n_vertices)  ##Sample the energy distribution with size equal to the number of nodes\n",
    "        eig_vec = exp.(beta*energias/2)   ##Equilibrium measure\n",
    "        eig_vec /= sum(eig_vec)           ## Normalized\n",
    "        I2[k] = ipr(eig_vec)            ## IPR of the eigenvector\n",
    "        ent[k] = shannon(eig_vec)       ## Entropy of the eigenvector\n",
    "    end\n",
    "    t2[j] = mean(-log.(I2)./log(n_vertices))   ##Scaling of the IPR\n",
    "    entropy[j] = mean(ent)                  ## Mean entropy\n",
    "    j += 1\n",
    "end"
   ]
  },
  {
   "cell_type": "markdown",
   "metadata": {},
   "source": [
    "Now we display the results. The first aim is to reproduce the figure 2 of the manuscript whereas the second one is to show the behavior of the entropy and evaluate qualitatively its change at the glass transition $T_g = 1$. "
   ]
  },
  {
   "cell_type": "code",
   "execution_count": 10,
   "metadata": {},
   "outputs": [],
   "source": [
    "using Plots\n",
    "using LaTeXStrings\n",
    "pyplot()\n",
    "Plots.scalefontsizes(1.5)"
   ]
  },
  {
   "cell_type": "code",
   "execution_count": 11,
   "metadata": {},
   "outputs": [
    {
     "data": {
      "image/png": "[encoded data removed]"
     },
     "execution_count": 11,
     "metadata": {},
     "output_type": "execute_result"
    }
   ],
   "source": [
    "plot(T, t2, color=:blue, xlabel = L\"T\", ylabel = L\"t_2(\\mathbf{v}_0)\", label = L\"\\bar{t}_2\", marker = 3, style = :dash,\n",
    "legend = :bottomright,  right_margin = Measures.Length{:mm,Float64}(20.))\n",
    "plt = twinx()\n",
    "plot!(plt, T, entropy, color=:red, ylabel = L\"S(\\mathbf{v}_0)\", marker = 3, style = :dash, label = L\"\\bar{S}\", \n",
    "    framestyle = :box, size = (800, 600))\n",
    "plot!([1.,1.],[0., 1.], label = L\"T_g\")"
   ]
  },
  {
   "cell_type": "markdown",
   "metadata": {},
   "source": [
    "So the entropy has changed completely at the glass transition which can be a good feature that allows to understand better the properties of the eigenvectors. Is this an interesting point? Compare perhaps with:\n",
    "\n",
    "- [Bertin, JPA2013](http://iopscience.iop.org/article/10.1088/1751-8113/46/9/095004/meta)\n",
    "- [Alba, 2016](https://journals.aps.org/prb/abstract/10.1103/PhysRevB.93.094404)"
   ]
  }
 ],
 "metadata": {
  "kernelspec": {
   "display_name": "Julia 0.6.4",
   "language": "julia",
   "name": "julia-0.6"
  },
  "language_info": {
   "file_extension": ".jl",
   "mimetype": "application/julia",
   "name": "julia",
   "version": "0.6.4"
  }
 },
 "nbformat": 4,
 "nbformat_minor": 2
}
